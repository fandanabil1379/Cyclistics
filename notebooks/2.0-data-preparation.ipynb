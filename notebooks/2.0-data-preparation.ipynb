{
 "cells": [
  {
   "attachments": {},
   "cell_type": "markdown",
   "metadata": {},
   "source": [
    "## `Setup Init`"
   ]
  },
  {
   "cell_type": "code",
   "execution_count": 1,
   "metadata": {},
   "outputs": [],
   "source": [
    "import numpy as np\n",
    "import pandas as pd\n",
    "import missingno as msno\n",
    "\n",
    "import warnings\n",
    "warnings.filterwarnings(\"ignore\")"
   ]
  },
  {
   "attachments": {},
   "cell_type": "markdown",
   "metadata": {},
   "source": [
    "## `Importing Data` "
   ]
  },
  {
   "cell_type": "code",
   "execution_count": 2,
   "metadata": {},
   "outputs": [],
   "source": [
    "import glob\n",
    "\n",
    "path = '../data/raw'\n",
    "csv_files = glob.glob(path + \"/*.csv\")\n",
    "\n",
    "df_list = (pd.read_csv(file, engine='pyarrow') for file in csv_files)\n",
    "\n",
    "df = pd.concat(df_list, ignore_index=True)"
   ]
  },
  {
   "attachments": {},
   "cell_type": "markdown",
   "metadata": {},
   "source": [
    "## `Data Cleansing`"
   ]
  },
  {
   "attachments": {},
   "cell_type": "markdown",
   "metadata": {},
   "source": [
    "Pertama, ubah nilai yang memungkinkan sebagai missing value seperti `''` menjadi nan value:"
   ]
  },
  {
   "cell_type": "code",
   "execution_count": 11,
   "metadata": {},
   "outputs": [],
   "source": [
    "cols = [\n",
    "    \"start_station_name\", \n",
    "    \"start_station_id\", \n",
    "    \"end_station_name\", \n",
    "    \"end_station_id\"\n",
    "]\n",
    "\n",
    "df[cols] = df[cols].replace({'': np.nan})"
   ]
  },
  {
   "attachments": {},
   "cell_type": "markdown",
   "metadata": {},
   "source": [
    "Kemudian, kita lakukan penilaian awal terkait format, tipe, dan unique value pada dataset:"
   ]
  },
  {
   "cell_type": "code",
   "execution_count": 12,
   "metadata": {},
   "outputs": [
    {
     "name": "stdout",
     "output_type": "stream",
     "text": [
      "Jumlah baris dan kolom: (639424, 13)\n"
     ]
    },
    {
     "data": {
      "text/html": [
       "<div>\n",
       "<style scoped>\n",
       "    .dataframe tbody tr th:only-of-type {\n",
       "        vertical-align: middle;\n",
       "    }\n",
       "\n",
       "    .dataframe tbody tr th {\n",
       "        vertical-align: top;\n",
       "    }\n",
       "\n",
       "    .dataframe thead th {\n",
       "        text-align: right;\n",
       "    }\n",
       "</style>\n",
       "<table border=\"1\" class=\"dataframe\">\n",
       "  <thead>\n",
       "    <tr style=\"text-align: right;\">\n",
       "      <th></th>\n",
       "      <th>feature</th>\n",
       "      <th>data_type</th>\n",
       "      <th>null_value</th>\n",
       "      <th>neg_value</th>\n",
       "      <th>n_unique</th>\n",
       "      <th>sample_unique</th>\n",
       "    </tr>\n",
       "  </thead>\n",
       "  <tbody>\n",
       "    <tr>\n",
       "      <th>0</th>\n",
       "      <td>ride_id</td>\n",
       "      <td>object</td>\n",
       "      <td>0.000000</td>\n",
       "      <td>False</td>\n",
       "      <td>639424</td>\n",
       "      <td>[6842AA605EE9FBB3, F984267A75B99A8C, FF7CF57CF...</td>\n",
       "    </tr>\n",
       "    <tr>\n",
       "      <th>1</th>\n",
       "      <td>rideable_type</td>\n",
       "      <td>object</td>\n",
       "      <td>0.000000</td>\n",
       "      <td>False</td>\n",
       "      <td>3</td>\n",
       "      <td>[electric_bike, classic_bike, docked_bike]</td>\n",
       "    </tr>\n",
       "    <tr>\n",
       "      <th>2</th>\n",
       "      <td>started_at</td>\n",
       "      <td>datetime64[ns]</td>\n",
       "      <td>0.000000</td>\n",
       "      <td>False</td>\n",
       "      <td>594512</td>\n",
       "      <td>[2023-03-16 08:20:34, 2023-03-04 14:07:06, 202...</td>\n",
       "    </tr>\n",
       "    <tr>\n",
       "      <th>3</th>\n",
       "      <td>ended_at</td>\n",
       "      <td>datetime64[ns]</td>\n",
       "      <td>0.000000</td>\n",
       "      <td>False</td>\n",
       "      <td>595322</td>\n",
       "      <td>[2023-03-16 08:22:52, 2023-03-04 14:15:31, 202...</td>\n",
       "    </tr>\n",
       "    <tr>\n",
       "      <th>4</th>\n",
       "      <td>start_station_name</td>\n",
       "      <td>object</td>\n",
       "      <td>13.778651</td>\n",
       "      <td>False</td>\n",
       "      <td>1102</td>\n",
       "      <td>[Clark St &amp; Armitage Ave, Public Rack - Kedzie...</td>\n",
       "    </tr>\n",
       "    <tr>\n",
       "      <th>5</th>\n",
       "      <td>start_station_id</td>\n",
       "      <td>object</td>\n",
       "      <td>13.799294</td>\n",
       "      <td>False</td>\n",
       "      <td>1066</td>\n",
       "      <td>[13146, 491, 620, TA1306000003, 18067, KA15030...</td>\n",
       "    </tr>\n",
       "    <tr>\n",
       "      <th>6</th>\n",
       "      <td>end_station_name</td>\n",
       "      <td>object</td>\n",
       "      <td>14.546842</td>\n",
       "      <td>False</td>\n",
       "      <td>1120</td>\n",
       "      <td>[Larrabee St &amp; Webster Ave, nan, Clark St &amp; Ra...</td>\n",
       "    </tr>\n",
       "    <tr>\n",
       "      <th>7</th>\n",
       "      <td>end_station_id</td>\n",
       "      <td>object</td>\n",
       "      <td>14.568893</td>\n",
       "      <td>False</td>\n",
       "      <td>1082</td>\n",
       "      <td>[13193, nan, TA1305000030, 13154, TA1306000015...</td>\n",
       "    </tr>\n",
       "    <tr>\n",
       "      <th>8</th>\n",
       "      <td>start_lat</td>\n",
       "      <td>float64</td>\n",
       "      <td>0.000000</td>\n",
       "      <td>False</td>\n",
       "      <td>196578</td>\n",
       "      <td>[41.91841316666667, 41.97, 41.898203, 41.88871...</td>\n",
       "    </tr>\n",
       "    <tr>\n",
       "      <th>9</th>\n",
       "      <td>start_lng</td>\n",
       "      <td>float64</td>\n",
       "      <td>0.000000</td>\n",
       "      <td>False</td>\n",
       "      <td>194605</td>\n",
       "      <td>[-87.63645116666666, -87.71, -87.637536, -87.6...</td>\n",
       "    </tr>\n",
       "    <tr>\n",
       "      <th>10</th>\n",
       "      <td>end_lat</td>\n",
       "      <td>float64</td>\n",
       "      <td>0.066622</td>\n",
       "      <td>False</td>\n",
       "      <td>972</td>\n",
       "      <td>[41.921822, 41.95, 41.884576228, 41.910522, 41...</td>\n",
       "    </tr>\n",
       "    <tr>\n",
       "      <th>11</th>\n",
       "      <td>end_lng</td>\n",
       "      <td>float64</td>\n",
       "      <td>0.066622</td>\n",
       "      <td>False</td>\n",
       "      <td>961</td>\n",
       "      <td>[-87.64414, -87.71, -87.63188991, -87.653106, ...</td>\n",
       "    </tr>\n",
       "    <tr>\n",
       "      <th>12</th>\n",
       "      <td>member_casual</td>\n",
       "      <td>object</td>\n",
       "      <td>0.000000</td>\n",
       "      <td>False</td>\n",
       "      <td>2</td>\n",
       "      <td>[member, casual]</td>\n",
       "    </tr>\n",
       "  </tbody>\n",
       "</table>\n",
       "</div>"
      ],
      "text/plain": [
       "               feature       data_type  null_value  neg_value  n_unique  \\\n",
       "0              ride_id          object    0.000000      False    639424   \n",
       "1        rideable_type          object    0.000000      False         3   \n",
       "2           started_at  datetime64[ns]    0.000000      False    594512   \n",
       "3             ended_at  datetime64[ns]    0.000000      False    595322   \n",
       "4   start_station_name          object   13.778651      False      1102   \n",
       "5     start_station_id          object   13.799294      False      1066   \n",
       "6     end_station_name          object   14.546842      False      1120   \n",
       "7       end_station_id          object   14.568893      False      1082   \n",
       "8            start_lat         float64    0.000000      False    196578   \n",
       "9            start_lng         float64    0.000000      False    194605   \n",
       "10             end_lat         float64    0.066622      False       972   \n",
       "11             end_lng         float64    0.066622      False       961   \n",
       "12       member_casual          object    0.000000      False         2   \n",
       "\n",
       "                                        sample_unique  \n",
       "0   [6842AA605EE9FBB3, F984267A75B99A8C, FF7CF57CF...  \n",
       "1          [electric_bike, classic_bike, docked_bike]  \n",
       "2   [2023-03-16 08:20:34, 2023-03-04 14:07:06, 202...  \n",
       "3   [2023-03-16 08:22:52, 2023-03-04 14:15:31, 202...  \n",
       "4   [Clark St & Armitage Ave, Public Rack - Kedzie...  \n",
       "5   [13146, 491, 620, TA1306000003, 18067, KA15030...  \n",
       "6   [Larrabee St & Webster Ave, nan, Clark St & Ra...  \n",
       "7   [13193, nan, TA1305000030, 13154, TA1306000015...  \n",
       "8   [41.91841316666667, 41.97, 41.898203, 41.88871...  \n",
       "9   [-87.63645116666666, -87.71, -87.637536, -87.6...  \n",
       "10  [41.921822, 41.95, 41.884576228, 41.910522, 41...  \n",
       "11  [-87.64414, -87.71, -87.63188991, -87.653106, ...  \n",
       "12                                   [member, casual]  "
      ]
     },
     "execution_count": 12,
     "metadata": {},
     "output_type": "execute_result"
    }
   ],
   "source": [
    "print(f'Jumlah baris dan kolom: {df.shape}')\n",
    "\n",
    "pd.DataFrame(\n",
    "    {\n",
    "    'feature': df.columns.values,\n",
    "    'data_type': df.dtypes.values,\n",
    "    'null_value': df.isna().mean().values * 100,\n",
    "    'neg_value': [True if df[col].dtype == int and (df[col] < 0).any() else False for col in df.columns],\n",
    "    'n_unique': df.nunique().values,\n",
    "    'sample_unique': [df[col].unique() for col in df.columns]\n",
    "    }\n",
    ")"
   ]
  },
  {
   "attachments": {},
   "cell_type": "markdown",
   "metadata": {},
   "source": [
    "Pola missing value antara `start_station_name` dan `start_station_id` keduanya berkorelasi kuat, artinya bisa di pastikan apabila salah satunya missing maka yang lain juga missing. Perilaku yang sama ditunjukkan antara `end_station_name` dan `end_station_id`. Adapun antara kelompok (name & id) `start` atau `end` juga saling berkorelasi, tapi lemah. Artinya bisa saja ketika kelompok `start` missing, belum tentu `end` juga missing, dan sebaliknya."
   ]
  },
  {
   "cell_type": "code",
   "execution_count": 14,
   "metadata": {},
   "outputs": [
    {
     "data": {
      "text/plain": [
       "<Axes: >"
      ]
     },
     "execution_count": 14,
     "metadata": {},
     "output_type": "execute_result"
    },
    {
     "data": {
      "image/png": "[encoded data removed]",
      "text/plain": [
       "<Figure size 1500x400 with 2 Axes>"
      ]
     },
     "metadata": {},
     "output_type": "display_data"
    }
   ],
   "source": [
    "msno.matrix(df, figsize=(15, 4))"
   ]
  },
  {
   "attachments": {},
   "cell_type": "markdown",
   "metadata": {},
   "source": [
    "Kita tangani terlebih dulu missing value pada atribut `end_lat` dan `end_lng`, karena persentase keduanya hanya **0.1%**, maka kita bisa membuangnya menggunakan `dropna()`."
   ]
  },
  {
   "cell_type": "code",
   "execution_count": 15,
   "metadata": {},
   "outputs": [],
   "source": [
    "df.dropna(subset=['end_lat', 'end_lng'], axis=0, ignore_index=True, inplace=True)"
   ]
  },
  {
   "attachments": {},
   "cell_type": "markdown",
   "metadata": {},
   "source": [
    "Adapun pada kolom `start_station_name`, `start_station_id`, `end_station_name`, dan `end_station_id`, karena jumlahnya cukup besar yaitu **15%**, kita tangani melalui inputasi dengan value sesuai atribut latitude dan longitude yang cocok."
   ]
  },
  {
   "attachments": {},
   "cell_type": "markdown",
   "metadata": {},
   "source": [
    "Pisahkan dulu antara dataframe berisi missing value (`with_nans`):"
   ]
  },
  {
   "cell_type": "code",
   "execution_count": 16,
   "metadata": {},
   "outputs": [
    {
     "data": {
      "text/html": [
       "<div>\n",
       "<style scoped>\n",
       "    .dataframe tbody tr th:only-of-type {\n",
       "        vertical-align: middle;\n",
       "    }\n",
       "\n",
       "    .dataframe tbody tr th {\n",
       "        vertical-align: top;\n",
       "    }\n",
       "\n",
       "    .dataframe thead th {\n",
       "        text-align: right;\n",
       "    }\n",
       "</style>\n",
       "<table border=\"1\" class=\"dataframe\">\n",
       "  <thead>\n",
       "    <tr style=\"text-align: right;\">\n",
       "      <th></th>\n",
       "      <th>ride_id</th>\n",
       "      <th>rideable_type</th>\n",
       "      <th>started_at</th>\n",
       "      <th>ended_at</th>\n",
       "      <th>start_station_name</th>\n",
       "      <th>start_station_id</th>\n",
       "      <th>end_station_name</th>\n",
       "      <th>end_station_id</th>\n",
       "      <th>start_lat</th>\n",
       "      <th>start_lng</th>\n",
       "      <th>end_lat</th>\n",
       "      <th>end_lng</th>\n",
       "      <th>member_casual</th>\n",
       "    </tr>\n",
       "  </thead>\n",
       "  <tbody>\n",
       "    <tr>\n",
       "      <th>567728</th>\n",
       "      <td>67983FBD388B8C64</td>\n",
       "      <td>electric_bike</td>\n",
       "      <td>2023-01-16 14:23:18</td>\n",
       "      <td>2023-01-16 14:35:00</td>\n",
       "      <td>NaN</td>\n",
       "      <td>NaN</td>\n",
       "      <td>Millennium Park</td>\n",
       "      <td>13008</td>\n",
       "      <td>41.870000</td>\n",
       "      <td>-87.620000</td>\n",
       "      <td>41.881032</td>\n",
       "      <td>-87.624084</td>\n",
       "      <td>member</td>\n",
       "    </tr>\n",
       "    <tr>\n",
       "      <th>434690</th>\n",
       "      <td>E09C9ED98C457CEC</td>\n",
       "      <td>electric_bike</td>\n",
       "      <td>2023-02-14 06:57:14</td>\n",
       "      <td>2023-02-14 07:11:11</td>\n",
       "      <td>NaN</td>\n",
       "      <td>NaN</td>\n",
       "      <td>Ashland Ave &amp; Division St</td>\n",
       "      <td>13061</td>\n",
       "      <td>41.930000</td>\n",
       "      <td>-87.650000</td>\n",
       "      <td>41.903450</td>\n",
       "      <td>-87.667747</td>\n",
       "      <td>member</td>\n",
       "    </tr>\n",
       "    <tr>\n",
       "      <th>16165</th>\n",
       "      <td>FC37BEEB22D10EC5</td>\n",
       "      <td>electric_bike</td>\n",
       "      <td>2023-03-15 09:52:23</td>\n",
       "      <td>2023-03-15 09:56:29</td>\n",
       "      <td>Dodge Ave &amp; Church St</td>\n",
       "      <td>600</td>\n",
       "      <td>NaN</td>\n",
       "      <td>NaN</td>\n",
       "      <td>42.048357</td>\n",
       "      <td>-87.698483</td>\n",
       "      <td>42.050000</td>\n",
       "      <td>-87.680000</td>\n",
       "      <td>casual</td>\n",
       "    </tr>\n",
       "    <tr>\n",
       "      <th>533365</th>\n",
       "      <td>DBE316BAFD0AFD49</td>\n",
       "      <td>electric_bike</td>\n",
       "      <td>2023-01-14 23:54:36</td>\n",
       "      <td>2023-01-15 00:00:32</td>\n",
       "      <td>Clark St &amp; Wellington Ave</td>\n",
       "      <td>TA1307000136</td>\n",
       "      <td>NaN</td>\n",
       "      <td>NaN</td>\n",
       "      <td>41.936530</td>\n",
       "      <td>-87.647584</td>\n",
       "      <td>41.950000</td>\n",
       "      <td>-87.650000</td>\n",
       "      <td>member</td>\n",
       "    </tr>\n",
       "    <tr>\n",
       "      <th>215896</th>\n",
       "      <td>0C29BD49C827F74B</td>\n",
       "      <td>electric_bike</td>\n",
       "      <td>2023-03-19 11:28:22</td>\n",
       "      <td>2023-03-19 11:34:40</td>\n",
       "      <td>NaN</td>\n",
       "      <td>NaN</td>\n",
       "      <td>Clarendon Ave &amp; Junior Ter</td>\n",
       "      <td>13389</td>\n",
       "      <td>41.970000</td>\n",
       "      <td>-87.650000</td>\n",
       "      <td>41.961004</td>\n",
       "      <td>-87.649603</td>\n",
       "      <td>member</td>\n",
       "    </tr>\n",
       "  </tbody>\n",
       "</table>\n",
       "</div>"
      ],
      "text/plain": [
       "                 ride_id  rideable_type          started_at  \\\n",
       "567728  67983FBD388B8C64  electric_bike 2023-01-16 14:23:18   \n",
       "434690  E09C9ED98C457CEC  electric_bike 2023-02-14 06:57:14   \n",
       "16165   FC37BEEB22D10EC5  electric_bike 2023-03-15 09:52:23   \n",
       "533365  DBE316BAFD0AFD49  electric_bike 2023-01-14 23:54:36   \n",
       "215896  0C29BD49C827F74B  electric_bike 2023-03-19 11:28:22   \n",
       "\n",
       "                  ended_at         start_station_name start_station_id  \\\n",
       "567728 2023-01-16 14:35:00                        NaN              NaN   \n",
       "434690 2023-02-14 07:11:11                        NaN              NaN   \n",
       "16165  2023-03-15 09:56:29      Dodge Ave & Church St              600   \n",
       "533365 2023-01-15 00:00:32  Clark St & Wellington Ave     TA1307000136   \n",
       "215896 2023-03-19 11:34:40                        NaN              NaN   \n",
       "\n",
       "                  end_station_name end_station_id  start_lat  start_lng  \\\n",
       "567728             Millennium Park          13008  41.870000 -87.620000   \n",
       "434690   Ashland Ave & Division St          13061  41.930000 -87.650000   \n",
       "16165                          NaN            NaN  42.048357 -87.698483   \n",
       "533365                         NaN            NaN  41.936530 -87.647584   \n",
       "215896  Clarendon Ave & Junior Ter          13389  41.970000 -87.650000   \n",
       "\n",
       "          end_lat    end_lng member_casual  \n",
       "567728  41.881032 -87.624084        member  \n",
       "434690  41.903450 -87.667747        member  \n",
       "16165   42.050000 -87.680000        casual  \n",
       "533365  41.950000 -87.650000        member  \n",
       "215896  41.961004 -87.649603        member  "
      ]
     },
     "execution_count": 16,
     "metadata": {},
     "output_type": "execute_result"
    }
   ],
   "source": [
    "with_nans = df[df.isnull().any(axis=1)]\n",
    "with_nans.sample(5)"
   ]
  },
  {
   "attachments": {},
   "cell_type": "markdown",
   "metadata": {},
   "source": [
    "dan dataframe tanpa missing value (`no_nans`)."
   ]
  },
  {
   "cell_type": "code",
   "execution_count": 18,
   "metadata": {},
   "outputs": [
    {
     "data": {
      "text/html": [
       "<div>\n",
       "<style scoped>\n",
       "    .dataframe tbody tr th:only-of-type {\n",
       "        vertical-align: middle;\n",
       "    }\n",
       "\n",
       "    .dataframe tbody tr th {\n",
       "        vertical-align: top;\n",
       "    }\n",
       "\n",
       "    .dataframe thead th {\n",
       "        text-align: right;\n",
       "    }\n",
       "</style>\n",
       "<table border=\"1\" class=\"dataframe\">\n",
       "  <thead>\n",
       "    <tr style=\"text-align: right;\">\n",
       "      <th></th>\n",
       "      <th>ride_id</th>\n",
       "      <th>rideable_type</th>\n",
       "      <th>started_at</th>\n",
       "      <th>ended_at</th>\n",
       "      <th>start_station_name</th>\n",
       "      <th>start_station_id</th>\n",
       "      <th>end_station_name</th>\n",
       "      <th>end_station_id</th>\n",
       "      <th>start_lat</th>\n",
       "      <th>start_lng</th>\n",
       "      <th>end_lat</th>\n",
       "      <th>end_lng</th>\n",
       "      <th>member_casual</th>\n",
       "    </tr>\n",
       "  </thead>\n",
       "  <tbody>\n",
       "    <tr>\n",
       "      <th>490983</th>\n",
       "      <td>440A3A58F6D037C8</td>\n",
       "      <td>classic_bike</td>\n",
       "      <td>2023-01-25 17:52:26</td>\n",
       "      <td>2023-01-25 17:58:16</td>\n",
       "      <td>Larrabee St &amp; Kingsbury St</td>\n",
       "      <td>TA1306000009</td>\n",
       "      <td>LaSalle Dr &amp; Huron St</td>\n",
       "      <td>KP1705001026</td>\n",
       "      <td>41.897764</td>\n",
       "      <td>-87.642884</td>\n",
       "      <td>41.894877</td>\n",
       "      <td>-87.632326</td>\n",
       "      <td>member</td>\n",
       "    </tr>\n",
       "    <tr>\n",
       "      <th>92602</th>\n",
       "      <td>29E39588B2C298D8</td>\n",
       "      <td>classic_bike</td>\n",
       "      <td>2023-03-28 11:44:20</td>\n",
       "      <td>2023-03-28 12:05:18</td>\n",
       "      <td>Canal St &amp; Jackson Blvd</td>\n",
       "      <td>13138</td>\n",
       "      <td>McClurg Ct &amp; Erie St</td>\n",
       "      <td>KA1503000041</td>\n",
       "      <td>41.877245</td>\n",
       "      <td>-87.639366</td>\n",
       "      <td>41.894503</td>\n",
       "      <td>-87.617854</td>\n",
       "      <td>member</td>\n",
       "    </tr>\n",
       "    <tr>\n",
       "      <th>183991</th>\n",
       "      <td>C9CDCF1290C93AFE</td>\n",
       "      <td>classic_bike</td>\n",
       "      <td>2023-03-11 14:39:12</td>\n",
       "      <td>2023-03-11 14:59:03</td>\n",
       "      <td>Indiana Ave &amp; Roosevelt Rd</td>\n",
       "      <td>SL-005</td>\n",
       "      <td>Wells St &amp; Hubbard St</td>\n",
       "      <td>TA1307000151</td>\n",
       "      <td>41.867888</td>\n",
       "      <td>-87.623041</td>\n",
       "      <td>41.889906</td>\n",
       "      <td>-87.634266</td>\n",
       "      <td>casual</td>\n",
       "    </tr>\n",
       "    <tr>\n",
       "      <th>23788</th>\n",
       "      <td>CF308009C42A7834</td>\n",
       "      <td>classic_bike</td>\n",
       "      <td>2023-03-03 14:14:48</td>\n",
       "      <td>2023-03-03 14:47:37</td>\n",
       "      <td>DuSable Lake Shore Dr &amp; Monroe St</td>\n",
       "      <td>13300</td>\n",
       "      <td>DuSable Lake Shore Dr &amp; North Blvd</td>\n",
       "      <td>LF-005</td>\n",
       "      <td>41.880958</td>\n",
       "      <td>-87.616743</td>\n",
       "      <td>41.911722</td>\n",
       "      <td>-87.626804</td>\n",
       "      <td>casual</td>\n",
       "    </tr>\n",
       "    <tr>\n",
       "      <th>38495</th>\n",
       "      <td>F6CACB0557A1D18A</td>\n",
       "      <td>electric_bike</td>\n",
       "      <td>2023-03-31 06:19:32</td>\n",
       "      <td>2023-03-31 06:26:16</td>\n",
       "      <td>Desplaines St &amp; Kinzie St</td>\n",
       "      <td>TA1306000003</td>\n",
       "      <td>St. Clair St &amp; Erie St</td>\n",
       "      <td>13016</td>\n",
       "      <td>41.888628</td>\n",
       "      <td>-87.644400</td>\n",
       "      <td>41.894345</td>\n",
       "      <td>-87.622798</td>\n",
       "      <td>member</td>\n",
       "    </tr>\n",
       "  </tbody>\n",
       "</table>\n",
       "</div>"
      ],
      "text/plain": [
       "                 ride_id  rideable_type          started_at  \\\n",
       "490983  440A3A58F6D037C8   classic_bike 2023-01-25 17:52:26   \n",
       "92602   29E39588B2C298D8   classic_bike 2023-03-28 11:44:20   \n",
       "183991  C9CDCF1290C93AFE   classic_bike 2023-03-11 14:39:12   \n",
       "23788   CF308009C42A7834   classic_bike 2023-03-03 14:14:48   \n",
       "38495   F6CACB0557A1D18A  electric_bike 2023-03-31 06:19:32   \n",
       "\n",
       "                  ended_at                 start_station_name  \\\n",
       "490983 2023-01-25 17:58:16         Larrabee St & Kingsbury St   \n",
       "92602  2023-03-28 12:05:18            Canal St & Jackson Blvd   \n",
       "183991 2023-03-11 14:59:03         Indiana Ave & Roosevelt Rd   \n",
       "23788  2023-03-03 14:47:37  DuSable Lake Shore Dr & Monroe St   \n",
       "38495  2023-03-31 06:26:16          Desplaines St & Kinzie St   \n",
       "\n",
       "       start_station_id                    end_station_name end_station_id  \\\n",
       "490983     TA1306000009               LaSalle Dr & Huron St   KP1705001026   \n",
       "92602             13138                McClurg Ct & Erie St   KA1503000041   \n",
       "183991           SL-005               Wells St & Hubbard St   TA1307000151   \n",
       "23788             13300  DuSable Lake Shore Dr & North Blvd         LF-005   \n",
       "38495      TA1306000003              St. Clair St & Erie St          13016   \n",
       "\n",
       "        start_lat  start_lng    end_lat    end_lng member_casual  \n",
       "490983  41.897764 -87.642884  41.894877 -87.632326        member  \n",
       "92602   41.877245 -87.639366  41.894503 -87.617854        member  \n",
       "183991  41.867888 -87.623041  41.889906 -87.634266        casual  \n",
       "23788   41.880958 -87.616743  41.911722 -87.626804        casual  \n",
       "38495   41.888628 -87.644400  41.894345 -87.622798        member  "
      ]
     },
     "execution_count": 18,
     "metadata": {},
     "output_type": "execute_result"
    }
   ],
   "source": [
    "no_nans = df[~df.isnull().any(axis=1)]\n",
    "no_nans.sample(5)"
   ]
  },
  {
   "attachments": {},
   "cell_type": "markdown",
   "metadata": {},
   "source": [
    "untuk mengisi stasiun yang sesuai, kita akan gunakan selisih jarak terkecil yang diperoleh dari formula `Haversine`."
   ]
  },
  {
   "cell_type": "code",
   "execution_count": 19,
   "metadata": {},
   "outputs": [],
   "source": [
    "def haversine(lat1, lon1, lat2, lon2):\n",
    "\n",
    "    lon1, lat1, lon2, lat2 = map(np.radians, [lon1, lat1, lon2, lat2])\n",
    "\n",
    "    newlon = lon2 - lon1\n",
    "    newlat = lat2 - lat1\n",
    "\n",
    "    haver_formula = np.sin(newlat/2.0)**2 + np.cos(lat1) * np.cos(lat2) * np.sin(newlon/2.0)**2\n",
    "\n",
    "    dist = 2 * np.arcsin(np.sqrt(haver_formula))\n",
    "    km = 6367 * dist\n",
    "    return round(km, 2) * 1000"
   ]
  },
  {
   "attachments": {},
   "cell_type": "markdown",
   "metadata": {},
   "source": [
    "baris dengan selisih jarak terkecil diperoleh dengan `idxmin()`."
   ]
  },
  {
   "cell_type": "code",
   "execution_count": 20,
   "metadata": {},
   "outputs": [],
   "source": [
    "def nearest(lat, long, mode='start'):\n",
    "    reference = no_nans[[f'{mode}_station_name', f'{mode}_station_id', f'{mode}_lat', f'{mode}_lng']].drop_duplicates(f'{mode}_station_name')\n",
    "    distances = reference.apply(\n",
    "        lambda x: haversine(lat, long, x[f'{mode}_lat'], x[f'{mode}_lng']), \n",
    "        axis=1)\n",
    "    return reference.loc[distances.idxmin(), [f'{mode}_station_name', f'{mode}_station_id']]"
   ]
  },
  {
   "attachments": {},
   "cell_type": "markdown",
   "metadata": {},
   "source": [
    "gunakan dua fungsi di atas untuk mencari nama dan id stasiun yang tepat untuk input missing value:"
   ]
  },
  {
   "cell_type": "code",
   "execution_count": 21,
   "metadata": {},
   "outputs": [
    {
     "name": "stderr",
     "output_type": "stream",
     "text": [
      "/var/folders/vh/81ldn_315vdf1b2_lnntkb080000gn/T/ipykernel_11246/3152822245.py:1: SettingWithCopyWarning: \n",
      "A value is trying to be set on a copy of a slice from a DataFrame.\n",
      "Try using .loc[row_indexer,col_indexer] = value instead\n",
      "\n",
      "See the caveats in the documentation: https://pandas.pydata.org/pandas-docs/stable/user_guide/indexing.html#returning-a-view-versus-a-copy\n",
      "  with_nans[['start_station_name', 'start_station_id']] = with_nans.apply(lambda x: nearest(x['start_lat'], x['start_lng'], 'start'), axis=1)\n"
     ]
    }
   ],
   "source": [
    "with_nans[['start_station_name', 'start_station_id']] = with_nans.apply(lambda x: nearest(x['start_lat'], x['start_lng'], 'start'), axis=1)"
   ]
  },
  {
   "cell_type": "code",
   "execution_count": 25,
   "metadata": {},
   "outputs": [],
   "source": [
    "with_nans[['end_station_name', 'end_station_id']] = with_nans.apply(lambda x: nearest(x['end_lat'], x['end_lng'], 'end'), axis=1)"
   ]
  },
  {
   "attachments": {},
   "cell_type": "markdown",
   "metadata": {},
   "source": [
    "merge data `with_nans` setelah inputasi dengan `no_nans`"
   ]
  },
  {
   "cell_type": "code",
   "execution_count": 32,
   "metadata": {},
   "outputs": [
    {
     "name": "stdout",
     "output_type": "stream",
     "text": [
      "Jumlah baris dan kolom: (638998, 13)\n"
     ]
    }
   ],
   "source": [
    "df_merged = pd.concat([no_nans, with_nans], ignore_index=True, axis=0)\n",
    "print(f'Jumlah baris dan kolom: {df_merged.shape}')"
   ]
  },
  {
   "attachments": {},
   "cell_type": "markdown",
   "metadata": {},
   "source": [
    "terakhir, kita cek duplikat data, jika ada, data tersebut akan diambil salah satunya saja."
   ]
  },
  {
   "cell_type": "code",
   "execution_count": 33,
   "metadata": {},
   "outputs": [
    {
     "data": {
      "text/html": [
       "<div>\n",
       "<style scoped>\n",
       "    .dataframe tbody tr th:only-of-type {\n",
       "        vertical-align: middle;\n",
       "    }\n",
       "\n",
       "    .dataframe tbody tr th {\n",
       "        vertical-align: top;\n",
       "    }\n",
       "\n",
       "    .dataframe thead th {\n",
       "        text-align: right;\n",
       "    }\n",
       "</style>\n",
       "<table border=\"1\" class=\"dataframe\">\n",
       "  <thead>\n",
       "    <tr style=\"text-align: right;\">\n",
       "      <th></th>\n",
       "      <th>ride_id</th>\n",
       "      <th>rideable_type</th>\n",
       "      <th>started_at</th>\n",
       "      <th>ended_at</th>\n",
       "      <th>start_station_name</th>\n",
       "      <th>start_station_id</th>\n",
       "      <th>end_station_name</th>\n",
       "      <th>end_station_id</th>\n",
       "      <th>start_lat</th>\n",
       "      <th>start_lng</th>\n",
       "      <th>end_lat</th>\n",
       "      <th>end_lng</th>\n",
       "      <th>member_casual</th>\n",
       "    </tr>\n",
       "  </thead>\n",
       "  <tbody>\n",
       "  </tbody>\n",
       "</table>\n",
       "</div>"
      ],
      "text/plain": [
       "Empty DataFrame\n",
       "Columns: [ride_id, rideable_type, started_at, ended_at, start_station_name, start_station_id, end_station_name, end_station_id, start_lat, start_lng, end_lat, end_lng, member_casual]\n",
       "Index: []"
      ]
     },
     "execution_count": 33,
     "metadata": {},
     "output_type": "execute_result"
    }
   ],
   "source": [
    "df_merged[df_merged.duplicated()]"
   ]
  },
  {
   "attachments": {},
   "cell_type": "markdown",
   "metadata": {},
   "source": [
    "## `Creating New Attributes`"
   ]
  },
  {
   "attachments": {},
   "cell_type": "markdown",
   "metadata": {},
   "source": [
    "Pertama kita buat atribut lain yang akan dibutuhkan dalam analisis:\n",
    "* Jarak tempuh (`distance`)\n",
    "* Durasi pemakaian (`duration`)\n",
    "* Nama hari saat sewa (`start_day` & `ended_day`)\n",
    "* Waktu start (`started_at`)\n",
    "* dan waktu ended (`ended_at`)"
   ]
  },
  {
   "cell_type": "code",
   "execution_count": 36,
   "metadata": {},
   "outputs": [
    {
     "data": {
      "text/html": [
       "<div>\n",
       "<style scoped>\n",
       "    .dataframe tbody tr th:only-of-type {\n",
       "        vertical-align: middle;\n",
       "    }\n",
       "\n",
       "    .dataframe tbody tr th {\n",
       "        vertical-align: top;\n",
       "    }\n",
       "\n",
       "    .dataframe thead th {\n",
       "        text-align: right;\n",
       "    }\n",
       "</style>\n",
       "<table border=\"1\" class=\"dataframe\">\n",
       "  <thead>\n",
       "    <tr style=\"text-align: right;\">\n",
       "      <th></th>\n",
       "      <th>ride_id</th>\n",
       "      <th>rideable_type</th>\n",
       "      <th>started_at</th>\n",
       "      <th>ended_at</th>\n",
       "      <th>start_station_name</th>\n",
       "      <th>start_station_id</th>\n",
       "      <th>end_station_name</th>\n",
       "      <th>end_station_id</th>\n",
       "      <th>start_lat</th>\n",
       "      <th>start_lng</th>\n",
       "      <th>end_lat</th>\n",
       "      <th>end_lng</th>\n",
       "      <th>member_casual</th>\n",
       "      <th>distance</th>\n",
       "      <th>duration</th>\n",
       "      <th>start_day</th>\n",
       "      <th>ended_day</th>\n",
       "      <th>start_time</th>\n",
       "      <th>ended_time</th>\n",
       "    </tr>\n",
       "  </thead>\n",
       "  <tbody>\n",
       "    <tr>\n",
       "      <th>627809</th>\n",
       "      <td>0E832D52B6C038AB</td>\n",
       "      <td>electric_bike</td>\n",
       "      <td>2023-01-06 14:54:13</td>\n",
       "      <td>2023-01-06 14:57:21</td>\n",
       "      <td>Clifton Ave &amp; Armitage Ave</td>\n",
       "      <td>TA1307000163</td>\n",
       "      <td>Southport Ave &amp; Clybourn Ave</td>\n",
       "      <td>TA1309000030</td>\n",
       "      <td>41.918155</td>\n",
       "      <td>-87.657070</td>\n",
       "      <td>41.920000</td>\n",
       "      <td>-87.660000</td>\n",
       "      <td>casual</td>\n",
       "      <td>320.0</td>\n",
       "      <td>3.13</td>\n",
       "      <td>Friday</td>\n",
       "      <td>Friday</td>\n",
       "      <td>14:54:13</td>\n",
       "      <td>14:57:21</td>\n",
       "    </tr>\n",
       "    <tr>\n",
       "      <th>435606</th>\n",
       "      <td>1B1354D149898D4E</td>\n",
       "      <td>classic_bike</td>\n",
       "      <td>2023-01-11 15:56:51</td>\n",
       "      <td>2023-01-11 16:04:03</td>\n",
       "      <td>Paulina St &amp; Flournoy St</td>\n",
       "      <td>KA1504000104</td>\n",
       "      <td>Ada St &amp; Washington Blvd</td>\n",
       "      <td>13353</td>\n",
       "      <td>41.873061</td>\n",
       "      <td>-87.669135</td>\n",
       "      <td>41.882830</td>\n",
       "      <td>-87.661206</td>\n",
       "      <td>member</td>\n",
       "      <td>1270.0</td>\n",
       "      <td>7.20</td>\n",
       "      <td>Wednesday</td>\n",
       "      <td>Wednesday</td>\n",
       "      <td>15:56:51</td>\n",
       "      <td>16:04:03</td>\n",
       "    </tr>\n",
       "    <tr>\n",
       "      <th>476030</th>\n",
       "      <td>115F707A0E2688F8</td>\n",
       "      <td>classic_bike</td>\n",
       "      <td>2023-01-27 20:27:36</td>\n",
       "      <td>2023-01-27 20:34:56</td>\n",
       "      <td>Clark St &amp; Bryn Mawr Ave</td>\n",
       "      <td>KA1504000151</td>\n",
       "      <td>Clark St &amp; Leland Ave</td>\n",
       "      <td>TA1309000014</td>\n",
       "      <td>41.983593</td>\n",
       "      <td>-87.669154</td>\n",
       "      <td>41.967088</td>\n",
       "      <td>-87.667291</td>\n",
       "      <td>member</td>\n",
       "      <td>1840.0</td>\n",
       "      <td>7.33</td>\n",
       "      <td>Friday</td>\n",
       "      <td>Friday</td>\n",
       "      <td>20:27:36</td>\n",
       "      <td>20:34:56</td>\n",
       "    </tr>\n",
       "    <tr>\n",
       "      <th>263061</th>\n",
       "      <td>D7F2FA5B17A80288</td>\n",
       "      <td>electric_bike</td>\n",
       "      <td>2023-02-18 11:07:50</td>\n",
       "      <td>2023-02-18 11:16:04</td>\n",
       "      <td>Ritchie Ct &amp; Banks St</td>\n",
       "      <td>KA1504000134</td>\n",
       "      <td>Halsted St &amp; Clybourn Ave</td>\n",
       "      <td>331</td>\n",
       "      <td>41.906800</td>\n",
       "      <td>-87.626180</td>\n",
       "      <td>41.909668</td>\n",
       "      <td>-87.648128</td>\n",
       "      <td>member</td>\n",
       "      <td>1840.0</td>\n",
       "      <td>8.23</td>\n",
       "      <td>Saturday</td>\n",
       "      <td>Saturday</td>\n",
       "      <td>11:07:50</td>\n",
       "      <td>11:16:04</td>\n",
       "    </tr>\n",
       "    <tr>\n",
       "      <th>97929</th>\n",
       "      <td>A2523DE5FB2F8524</td>\n",
       "      <td>electric_bike</td>\n",
       "      <td>2023-03-01 07:47:31</td>\n",
       "      <td>2023-03-01 08:00:49</td>\n",
       "      <td>Morgan St &amp; 18th St</td>\n",
       "      <td>13163</td>\n",
       "      <td>Dearborn St &amp; Monroe St</td>\n",
       "      <td>TA1305000006</td>\n",
       "      <td>41.858047</td>\n",
       "      <td>-87.651117</td>\n",
       "      <td>41.881320</td>\n",
       "      <td>-87.629521</td>\n",
       "      <td>member</td>\n",
       "      <td>3140.0</td>\n",
       "      <td>13.30</td>\n",
       "      <td>Wednesday</td>\n",
       "      <td>Wednesday</td>\n",
       "      <td>07:47:31</td>\n",
       "      <td>08:00:49</td>\n",
       "    </tr>\n",
       "  </tbody>\n",
       "</table>\n",
       "</div>"
      ],
      "text/plain": [
       "                 ride_id  rideable_type          started_at  \\\n",
       "627809  0E832D52B6C038AB  electric_bike 2023-01-06 14:54:13   \n",
       "435606  1B1354D149898D4E   classic_bike 2023-01-11 15:56:51   \n",
       "476030  115F707A0E2688F8   classic_bike 2023-01-27 20:27:36   \n",
       "263061  D7F2FA5B17A80288  electric_bike 2023-02-18 11:07:50   \n",
       "97929   A2523DE5FB2F8524  electric_bike 2023-03-01 07:47:31   \n",
       "\n",
       "                  ended_at          start_station_name start_station_id  \\\n",
       "627809 2023-01-06 14:57:21  Clifton Ave & Armitage Ave     TA1307000163   \n",
       "435606 2023-01-11 16:04:03    Paulina St & Flournoy St     KA1504000104   \n",
       "476030 2023-01-27 20:34:56    Clark St & Bryn Mawr Ave     KA1504000151   \n",
       "263061 2023-02-18 11:16:04       Ritchie Ct & Banks St     KA1504000134   \n",
       "97929  2023-03-01 08:00:49         Morgan St & 18th St            13163   \n",
       "\n",
       "                    end_station_name end_station_id  start_lat  start_lng  \\\n",
       "627809  Southport Ave & Clybourn Ave   TA1309000030  41.918155 -87.657070   \n",
       "435606      Ada St & Washington Blvd          13353  41.873061 -87.669135   \n",
       "476030         Clark St & Leland Ave   TA1309000014  41.983593 -87.669154   \n",
       "263061     Halsted St & Clybourn Ave            331  41.906800 -87.626180   \n",
       "97929        Dearborn St & Monroe St   TA1305000006  41.858047 -87.651117   \n",
       "\n",
       "          end_lat    end_lng member_casual  distance  duration  start_day  \\\n",
       "627809  41.920000 -87.660000        casual     320.0      3.13     Friday   \n",
       "435606  41.882830 -87.661206        member    1270.0      7.20  Wednesday   \n",
       "476030  41.967088 -87.667291        member    1840.0      7.33     Friday   \n",
       "263061  41.909668 -87.648128        member    1840.0      8.23   Saturday   \n",
       "97929   41.881320 -87.629521        member    3140.0     13.30  Wednesday   \n",
       "\n",
       "        ended_day start_time ended_time  \n",
       "627809     Friday   14:54:13   14:57:21  \n",
       "435606  Wednesday   15:56:51   16:04:03  \n",
       "476030     Friday   20:27:36   20:34:56  \n",
       "263061   Saturday   11:07:50   11:16:04  \n",
       "97929   Wednesday   07:47:31   08:00:49  "
      ]
     },
     "execution_count": 36,
     "metadata": {},
     "output_type": "execute_result"
    }
   ],
   "source": [
    "df_merged = df_merged.assign(\n",
    "    distance=haversine(df_merged['start_lat'], df_merged['start_lng'], df_merged['end_lat'], df_merged['end_lng']),\n",
    "    duration=round(pd.to_timedelta(df_merged['ended_at'] - df_merged['started_at'], unit='seconds').dt.total_seconds() / 60, 2),\n",
    "    start_day=df_merged['started_at'].dt.day_name(),\n",
    "    ended_day=df_merged['ended_at'].dt.day_name(),\n",
    "    start_time=df_merged['started_at'].dt.time,\n",
    "    ended_time=df_merged['ended_at'].dt.time) \\\n",
    ".query('duration > 0 and distance > 0')\n",
    "\n",
    "df_merged.sample(5)"
   ]
  },
  {
   "attachments": {},
   "cell_type": "markdown",
   "metadata": {},
   "source": [
    "Kemudian kita kelompokan atribut `distance` dan `duration`."
   ]
  },
  {
   "cell_type": "code",
   "execution_count": 50,
   "metadata": {},
   "outputs": [
    {
     "name": "stdout",
     "output_type": "stream",
     "text": [
      "Distance: median 1380.0 - MAD 630.0\n",
      "Duration: median 7.47 - MAD 3.4899999999999998\n"
     ]
    }
   ],
   "source": [
    "print(f'Distance: median {df_merged.distance.median()} - MAD {abs(df_merged.distance - df_merged.distance.median()).median()}')\n",
    "print(f'Duration: median {df_merged.duration.median()} - MAD {abs(df_merged.duration - df_merged.duration.median()).median()}')"
   ]
  },
  {
   "attachments": {},
   "cell_type": "markdown",
   "metadata": {},
   "source": [
    "Gunakan median dan MAD sebagai dasar membagi kelompoknya."
   ]
  },
  {
   "cell_type": "code",
   "execution_count": 46,
   "metadata": {},
   "outputs": [],
   "source": [
    "def convert_duration(x):\n",
    "    if x > 7.5:\n",
    "        return '> 7.5 minute'\n",
    "    elif x <= 12:\n",
    "        return '0-7.5 minute'\n",
    "    \n",
    "def convert_distance(x):\n",
    "    if 2100 > x > 750:\n",
    "        return '750-2100 m'\n",
    "    elif x <= 750:\n",
    "        return '0-750 m'\n",
    "    else:\n",
    "        return '> 2100 m'\n",
    "\n",
    "df_merged = df_merged.assign(\n",
    "    class_duration=df_merged.duration.apply(lambda x: convert_duration(x)),\n",
    "    class_distance=df_merged.distance.apply(lambda x: convert_distance(x)),\n",
    ")"
   ]
  },
  {
   "attachments": {},
   "cell_type": "markdown",
   "metadata": {},
   "source": [
    "Dan terakhir kelompokkan `start_day` menjadi `weekend` atau `weekday`"
   ]
  },
  {
   "cell_type": "code",
   "execution_count": 51,
   "metadata": {},
   "outputs": [],
   "source": [
    "def convert_day(x):\n",
    "    if x in ['Friday', 'Saturday', 'Monday']:\n",
    "        return 'weekend'\n",
    "    else:\n",
    "        return 'weekday'\n",
    "    \n",
    "df_merged = df_merged.assign(\n",
    "    weekday=df_merged.start_day.apply(lambda x: convert_day(x))\n",
    ")"
   ]
  },
  {
   "attachments": {},
   "cell_type": "markdown",
   "metadata": {},
   "source": [
    "## `Saving Data`"
   ]
  },
  {
   "attachments": {},
   "cell_type": "markdown",
   "metadata": {},
   "source": [
    "Data mentah yang sudah diolah dan siap di analisis akan kita simpan dalam folder `../data/processed`"
   ]
  },
  {
   "cell_type": "code",
   "execution_count": 48,
   "metadata": {},
   "outputs": [],
   "source": [
    "df_merged.to_csv(f'../data/processed/cleaned_data.csv')"
   ]
  }
 ],
 "metadata": {
  "kernelspec": {
   "display_name": "Python 3",
   "language": "python",
   "name": "python3"
  },
  "language_info": {
   "codemirror_mode": {
    "name": "ipython",
    "version": 3
   },
   "file_extension": ".py",
   "mimetype": "text/x-python",
   "name": "python",
   "nbconvert_exporter": "python",
   "pygments_lexer": "ipython3",
   "version": "3.9.16"
  },
  "orig_nbformat": 4
 },
 "nbformat": 4,
 "nbformat_minor": 2
}
